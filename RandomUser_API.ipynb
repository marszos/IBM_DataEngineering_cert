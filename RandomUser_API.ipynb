{
 "cells": [
  {
   "cell_type": "markdown",
   "metadata": {},
   "source": [
    "## Example 1: RandomUser API\n",
    "\n",
    "Bellow are Get Methods parameters that we can generate. For more information on the parameters, please visit this [documentation](https://randomuser.me/documentation?utm_medium=Exinfluencer&utm_source=Exinfluencer&utm_content=000026UJ&utm_term=10006555&utm_id=NA-SkillsNetwork-Channel-SkillsNetworkCoursesIBMDeveloperSkillsNetworkPY0101ENSkillsNetwork19487395-2022-01-01) page.\n"
   ]
  },
  {
   "cell_type": "markdown",
   "metadata": {},
   "source": [
    "## **Get Methods**\n",
    "\n",
    "*   get_cell()\n",
    "*   get_city()\n",
    "*   get_dob()\n",
    "*   get_email()\n",
    "*   get_first_name()\n",
    "*   get_full_name()\n",
    "*   get_gender()\n",
    "*   get_id()\n",
    "*   get_id_number()\n",
    "*   get_id_type()\n",
    "*   get_info()\n",
    "*   get_last_name()\n",
    "*   get_login_md5()\n",
    "*   get_login_salt()\n",
    "*   get_login_sha1()\n",
    "*   get_login_sha256()\n",
    "*   get_nat()\n",
    "*   get_password()\n",
    "*   get_phone()\n",
    "*   get_picture()\n",
    "*   get_postcode()\n",
    "*   get_registered()\n",
    "*   get_state()\n",
    "*   get_street()\n",
    "*   get_username()\n",
    "*   get_zipcode()\n"
   ]
  },
  {
   "cell_type": "markdown",
   "metadata": {},
   "source": [
    "To start using the API you can install the `randomuser` library running the `pip install` command.\n"
   ]
  },
  {
   "cell_type": "code",
   "execution_count": null,
   "metadata": {},
   "outputs": [],
   "source": [
    "!pip install randomuser"
   ]
  },
  {
   "cell_type": "markdown",
   "metadata": {},
   "source": [
    "Then, we will load the necessary libraries.\n"
   ]
  },
  {
   "cell_type": "code",
   "execution_count": 1,
   "metadata": {},
   "outputs": [],
   "source": [
    "from randomuser import RandomUser\n",
    "import pandas as pd"
   ]
  },
  {
   "cell_type": "markdown",
   "metadata": {},
   "source": [
    "First, we will create a random user object, r.\n"
   ]
  },
  {
   "cell_type": "code",
   "execution_count": 2,
   "metadata": {},
   "outputs": [],
   "source": [
    "r = RandomUser()"
   ]
  },
  {
   "cell_type": "markdown",
   "metadata": {},
   "source": [
    "Then, using `generate_users()` function, we get a list of random 10 users.\n"
   ]
  },
  {
   "cell_type": "code",
   "execution_count": 3,
   "metadata": {},
   "outputs": [],
   "source": [
    "some_list = r.generate_users(10)"
   ]
  },
  {
   "cell_type": "code",
   "execution_count": 4,
   "metadata": {},
   "outputs": [
    {
     "data": {
      "text/plain": [
       "[<randomuser.RandomUser at 0x7f80b80ba100>,\n",
       " <randomuser.RandomUser at 0x7f80b80ba160>,\n",
       " <randomuser.RandomUser at 0x7f80a8ab0ee0>,\n",
       " <randomuser.RandomUser at 0x7f80a8ab07c0>,\n",
       " <randomuser.RandomUser at 0x7f80a8ab0220>,\n",
       " <randomuser.RandomUser at 0x7f80a8ab0f70>,\n",
       " <randomuser.RandomUser at 0x7f80a8ab0f40>,\n",
       " <randomuser.RandomUser at 0x7f80a8ab0ca0>,\n",
       " <randomuser.RandomUser at 0x7f80a8ab0e50>,\n",
       " <randomuser.RandomUser at 0x7f80a920d880>]"
      ]
     },
     "execution_count": 4,
     "metadata": {},
     "output_type": "execute_result"
    }
   ],
   "source": [
    "some_list"
   ]
  },
  {
   "cell_type": "markdown",
   "metadata": {},
   "source": [
    "The **\"Get Methods\"** functions mentioned at the beginning of this notebook, can generate the required parameters to construct a dataset. For example, to get full name, we call `get_full_name()` function.\n"
   ]
  },
  {
   "cell_type": "code",
   "execution_count": 5,
   "metadata": {},
   "outputs": [],
   "source": [
    "name = r.get_full_name()"
   ]
  },
  {
   "cell_type": "markdown",
   "metadata": {},
   "source": [
    "Let's say we only need 10 users with full names and their email addresses. We can write a \"for-loop\" to print these 10 users.\n"
   ]
  },
  {
   "cell_type": "code",
   "execution_count": 6,
   "metadata": {},
   "outputs": [
    {
     "name": "stdout",
     "output_type": "stream",
     "text": [
      "آیلین رضایی   aylyn.rdyy@example.com\n",
      "Asher Hughes   asher.hughes@example.com\n",
      "سپهر حیدری   sphr.hydry@example.com\n",
      "میلاد نجاتی   myld.njty@example.com\n",
      "Isabella Prescott   isabella.prescott@example.com\n",
      "Justine Hubert   justine.hubert@example.com\n",
      "Sabina Girard   sabina.girard@example.com\n",
      "Ambre Guillot   ambre.guillot@example.com\n",
      "Vår Wiig   var.wiig@example.com\n",
      "Valerie Payne   valerie.payne@example.com\n"
     ]
    }
   ],
   "source": [
    "for user in some_list:\n",
    "    print (user.get_full_name(),\" \",user.get_email())"
   ]
  },
  {
   "cell_type": "markdown",
   "metadata": {},
   "source": [
    "## Exercise 1\n",
    "\n",
    "In this Exercise, generate photos of the random 5 users.\n"
   ]
  },
  {
   "cell_type": "code",
   "execution_count": 8,
   "metadata": {},
   "outputs": [],
   "source": [
    "## Write your code here\n",
    "random_5 = r.generate_users(5)\n"
   ]
  },
  {
   "cell_type": "code",
   "execution_count": 9,
   "metadata": {},
   "outputs": [
    {
     "name": "stdout",
     "output_type": "stream",
     "text": [
      "https://randomuser.me/api/portraits/men/84.jpg\n",
      "https://randomuser.me/api/portraits/women/60.jpg\n",
      "https://randomuser.me/api/portraits/women/16.jpg\n",
      "https://randomuser.me/api/portraits/men/89.jpg\n",
      "https://randomuser.me/api/portraits/men/14.jpg\n"
     ]
    }
   ],
   "source": [
    "for name in random_5:\n",
    "    print(name.get_picture())"
   ]
  },
  {
   "cell_type": "markdown",
   "metadata": {},
   "source": [
    "<details><summary>Click here for the solution</summary>\n",
    "\n",
    "```python\n",
    "for user in some_list:\n",
    "    print (user.get_picture())\n",
    "```\n",
    "\n",
    "</details>\n"
   ]
  },
  {
   "cell_type": "markdown",
   "metadata": {},
   "source": [
    "To generate a table with information about the users, we can write a function containing all desirable parameters. For example, name, gender, city, etc. The parameters will depend on the requirements of the test to be performed. We call the Get Methods, listed at the beginning of this notebook. Then, we return pandas dataframe with the users.\n"
   ]
  },
  {
   "cell_type": "code",
   "execution_count": 10,
   "metadata": {},
   "outputs": [],
   "source": [
    "def get_users():\n",
    "    users =[]\n",
    "     \n",
    "    for user in RandomUser.generate_users(10):\n",
    "        users.append({\"Name\":user.get_full_name(),\"Gender\":user.get_gender(),\"City\":user.get_city(),\"State\":user.get_state(),\"Email\":user.get_email(), \"DOB\":user.get_dob(),\"Picture\":user.get_picture()})\n",
    "      \n",
    "    return pd.DataFrame(users)     "
   ]
  },
  {
   "cell_type": "code",
   "execution_count": 11,
   "metadata": {},
   "outputs": [
    {
     "data": {
      "text/html": [
       "<div>\n",
       "<style scoped>\n",
       "    .dataframe tbody tr th:only-of-type {\n",
       "        vertical-align: middle;\n",
       "    }\n",
       "\n",
       "    .dataframe tbody tr th {\n",
       "        vertical-align: top;\n",
       "    }\n",
       "\n",
       "    .dataframe thead th {\n",
       "        text-align: right;\n",
       "    }\n",
       "</style>\n",
       "<table border=\"1\" class=\"dataframe\">\n",
       "  <thead>\n",
       "    <tr style=\"text-align: right;\">\n",
       "      <th></th>\n",
       "      <th>Name</th>\n",
       "      <th>Gender</th>\n",
       "      <th>City</th>\n",
       "      <th>State</th>\n",
       "      <th>Email</th>\n",
       "      <th>DOB</th>\n",
       "      <th>Picture</th>\n",
       "    </tr>\n",
       "  </thead>\n",
       "  <tbody>\n",
       "    <tr>\n",
       "      <th>0</th>\n",
       "      <td>Ercan Seitz</td>\n",
       "      <td>male</td>\n",
       "      <td>Essen</td>\n",
       "      <td>Bremen</td>\n",
       "      <td>ercan.seitz@example.com</td>\n",
       "      <td>1979-01-18T16:53:27.601Z</td>\n",
       "      <td>https://randomuser.me/api/portraits/men/38.jpg</td>\n",
       "    </tr>\n",
       "    <tr>\n",
       "      <th>1</th>\n",
       "      <td>Jeppe Jørgensen</td>\n",
       "      <td>male</td>\n",
       "      <td>Gørløse</td>\n",
       "      <td>Sjælland</td>\n",
       "      <td>jeppe.jorgensen@example.com</td>\n",
       "      <td>1956-03-10T01:01:18.940Z</td>\n",
       "      <td>https://randomuser.me/api/portraits/men/61.jpg</td>\n",
       "    </tr>\n",
       "    <tr>\n",
       "      <th>2</th>\n",
       "      <td>Maxine Watson</td>\n",
       "      <td>female</td>\n",
       "      <td>Fairfield</td>\n",
       "      <td>Indiana</td>\n",
       "      <td>maxine.watson@example.com</td>\n",
       "      <td>1994-06-23T11:32:48.370Z</td>\n",
       "      <td>https://randomuser.me/api/portraits/women/23.jpg</td>\n",
       "    </tr>\n",
       "    <tr>\n",
       "      <th>3</th>\n",
       "      <td>Niilo Kujala</td>\n",
       "      <td>male</td>\n",
       "      <td>Joutsa</td>\n",
       "      <td>Ostrobothnia</td>\n",
       "      <td>niilo.kujala@example.com</td>\n",
       "      <td>1984-11-02T05:33:14.540Z</td>\n",
       "      <td>https://randomuser.me/api/portraits/men/16.jpg</td>\n",
       "    </tr>\n",
       "    <tr>\n",
       "      <th>4</th>\n",
       "      <td>Gonca Bolatlı</td>\n",
       "      <td>female</td>\n",
       "      <td>Elazığ</td>\n",
       "      <td>Çankırı</td>\n",
       "      <td>gonca.bolatli@example.com</td>\n",
       "      <td>1949-02-02T06:17:27.161Z</td>\n",
       "      <td>https://randomuser.me/api/portraits/women/94.jpg</td>\n",
       "    </tr>\n",
       "    <tr>\n",
       "      <th>5</th>\n",
       "      <td>Miro Wiita</td>\n",
       "      <td>male</td>\n",
       "      <td>Hammarland</td>\n",
       "      <td>Southern Savonia</td>\n",
       "      <td>miro.wiita@example.com</td>\n",
       "      <td>1980-09-20T14:06:24.176Z</td>\n",
       "      <td>https://randomuser.me/api/portraits/men/28.jpg</td>\n",
       "    </tr>\n",
       "    <tr>\n",
       "      <th>6</th>\n",
       "      <td>Rose Walker</td>\n",
       "      <td>female</td>\n",
       "      <td>Christchurch</td>\n",
       "      <td>Canterbury</td>\n",
       "      <td>rose.walker@example.com</td>\n",
       "      <td>1965-08-07T11:38:22.714Z</td>\n",
       "      <td>https://randomuser.me/api/portraits/women/58.jpg</td>\n",
       "    </tr>\n",
       "    <tr>\n",
       "      <th>7</th>\n",
       "      <td>Colleen Horton</td>\n",
       "      <td>female</td>\n",
       "      <td>Bathurst</td>\n",
       "      <td>Western Australia</td>\n",
       "      <td>colleen.horton@example.com</td>\n",
       "      <td>1978-05-23T22:57:32.863Z</td>\n",
       "      <td>https://randomuser.me/api/portraits/women/42.jpg</td>\n",
       "    </tr>\n",
       "    <tr>\n",
       "      <th>8</th>\n",
       "      <td>Jaxon Thompson</td>\n",
       "      <td>male</td>\n",
       "      <td>Wellington</td>\n",
       "      <td>Hawke'S Bay</td>\n",
       "      <td>jaxon.thompson@example.com</td>\n",
       "      <td>1951-12-29T23:58:05.841Z</td>\n",
       "      <td>https://randomuser.me/api/portraits/men/25.jpg</td>\n",
       "    </tr>\n",
       "    <tr>\n",
       "      <th>9</th>\n",
       "      <td>نيما قاسمی</td>\n",
       "      <td>male</td>\n",
       "      <td>قائم‌شهر</td>\n",
       "      <td>آذربایجان غربی</td>\n",
       "      <td>nym.qsmy@example.com</td>\n",
       "      <td>1973-05-03T21:28:35.855Z</td>\n",
       "      <td>https://randomuser.me/api/portraits/men/4.jpg</td>\n",
       "    </tr>\n",
       "  </tbody>\n",
       "</table>\n",
       "</div>"
      ],
      "text/plain": [
       "              Name  Gender          City              State  \\\n",
       "0      Ercan Seitz    male         Essen             Bremen   \n",
       "1  Jeppe Jørgensen    male       Gørløse           Sjælland   \n",
       "2    Maxine Watson  female     Fairfield            Indiana   \n",
       "3     Niilo Kujala    male        Joutsa       Ostrobothnia   \n",
       "4    Gonca Bolatlı  female        Elazığ            Çankırı   \n",
       "5       Miro Wiita    male    Hammarland   Southern Savonia   \n",
       "6      Rose Walker  female  Christchurch         Canterbury   \n",
       "7   Colleen Horton  female      Bathurst  Western Australia   \n",
       "8   Jaxon Thompson    male    Wellington        Hawke'S Bay   \n",
       "9       نيما قاسمی    male      قائم‌شهر     آذربایجان غربی   \n",
       "\n",
       "                         Email                       DOB  \\\n",
       "0      ercan.seitz@example.com  1979-01-18T16:53:27.601Z   \n",
       "1  jeppe.jorgensen@example.com  1956-03-10T01:01:18.940Z   \n",
       "2    maxine.watson@example.com  1994-06-23T11:32:48.370Z   \n",
       "3     niilo.kujala@example.com  1984-11-02T05:33:14.540Z   \n",
       "4    gonca.bolatli@example.com  1949-02-02T06:17:27.161Z   \n",
       "5       miro.wiita@example.com  1980-09-20T14:06:24.176Z   \n",
       "6      rose.walker@example.com  1965-08-07T11:38:22.714Z   \n",
       "7   colleen.horton@example.com  1978-05-23T22:57:32.863Z   \n",
       "8   jaxon.thompson@example.com  1951-12-29T23:58:05.841Z   \n",
       "9         nym.qsmy@example.com  1973-05-03T21:28:35.855Z   \n",
       "\n",
       "                                            Picture  \n",
       "0    https://randomuser.me/api/portraits/men/38.jpg  \n",
       "1    https://randomuser.me/api/portraits/men/61.jpg  \n",
       "2  https://randomuser.me/api/portraits/women/23.jpg  \n",
       "3    https://randomuser.me/api/portraits/men/16.jpg  \n",
       "4  https://randomuser.me/api/portraits/women/94.jpg  \n",
       "5    https://randomuser.me/api/portraits/men/28.jpg  \n",
       "6  https://randomuser.me/api/portraits/women/58.jpg  \n",
       "7  https://randomuser.me/api/portraits/women/42.jpg  \n",
       "8    https://randomuser.me/api/portraits/men/25.jpg  \n",
       "9     https://randomuser.me/api/portraits/men/4.jpg  "
      ]
     },
     "execution_count": 11,
     "metadata": {},
     "output_type": "execute_result"
    }
   ],
   "source": [
    "get_users()"
   ]
  },
  {
   "cell_type": "code",
   "execution_count": 13,
   "metadata": {},
   "outputs": [],
   "source": [
    "df1 = pd.DataFrame(get_users())  "
   ]
  },
  {
   "cell_type": "markdown",
   "metadata": {},
   "source": [
    "Now we have a *pandas* dataframe that can be used for any testing purposes that the tester might have.\n"
   ]
  }
 ],
 "metadata": {
  "kernelspec": {
   "display_name": "Python 3",
   "language": "python",
   "name": "python3"
  },
  "language_info": {
   "codemirror_mode": {
    "name": "ipython",
    "version": 3
   },
   "file_extension": ".py",
   "mimetype": "text/x-python",
   "name": "python",
   "nbconvert_exporter": "python",
   "pygments_lexer": "ipython3",
   "version": "3.8.5"
  }
 },
 "nbformat": 4,
 "nbformat_minor": 5
}
