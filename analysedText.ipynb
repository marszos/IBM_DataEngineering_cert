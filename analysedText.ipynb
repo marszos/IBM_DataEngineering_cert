{
 "cells": [
  {
   "cell_type": "markdown",
   "metadata": {},
   "source": [
    "<h4> Text Analysis </h4>\n"
   ]
  },
  {
   "cell_type": "markdown",
   "metadata": {},
   "source": [
    "You have been recruited by your friend, a linguistics enthusiast, to create a utility tool that can perform analysis on a given piece of text. Complete the class\n",
    "'analysedText' with the following methods -\n",
    "\n",
    "<ul>\n",
    "    <li> Constructor (__init__) - This method should take the argument <code>text</code>, make it lower case, and remove all punctuation.  Assume only the following punctuation is used: period (.), exclamation mark (!), comma (,) and question mark (?). Assign this newly formatted text to a new attribute called <code>fmtText</code>.\n",
    "    <li> freqAll - This method should create and <strong>return</strong> dictionary of all unique words in the text, along with the number of times they occur in the text. Each key in the dictionary should be the unique word appearing in the text and the associated value should be the number of times it occurs in the text. Create this dictionary from the <code>fmtText</code> attribute.\n",
    "    <li> freqOf - This method should take a word as an argument and <strong>return</strong> the number of occurrences of that word in <code>fmtText</code>.\n",
    "</ul>\n",
    " The skeleton code has been given to you. Docstrings can be ignored for the purpose of the exercise. <br>\n",
    " <i> Hint: Some useful functions are <code>replace()</code>, <code>lower()</code>, <code>split()</code>, <code>count()</code> </i><br>\n"
   ]
  },
  {
   "cell_type": "markdown",
   "metadata": {},
   "source": [
    "<details><summary>Hint for implementing Constructor</summary>\n",
    "\n",
    "The <code>lower()</code> function converts all characters in the string to lowercase.\n",
    "\n",
    "The <code>replace()</code> function takes two arguments: the text to search for and the text to replace it with. Try calling this function for each punctuation you want to remove and replace it with a blank character, <code>''</code>\n",
    "\n",
    "You can define a class attribute and assign it a value with the following generic recipe: <code>self.attribute_name = value</code>\n",
    "\n",
    "</details>\n"
   ]
  },
  {
   "cell_type": "markdown",
   "metadata": {},
   "source": [
    "<details><summary>Hint for implementing freqAll</summary>\n",
    "\n",
    "You can create a list of all words in <code>fmtText</code> using the <code>split()</code> and by using the whitespace character, <code>' '</code> as the delimiter.\n",
    "\n",
    "Using <code>set()</code> with a list as the argument will return a set with all the unique elements in the list. Try iterating over the elements in this set to create the keys for a dictionary. The <code>count()</code> function will return the number of occurrences of the argument in list. For example, <code>\\[\"hi\", \"hi\", \"hello\"].count(\"hi\")</code> will return 2. This can be used to set the values for each key-value pair in the dictionary.\n",
    "\n",
    "</details>\n"
   ]
  },
  {
   "cell_type": "markdown",
   "metadata": {},
   "source": [
    "<details><summary>Hint for implementing freqOf</summary>\n",
    "\n",
    "Try calling the <code>freqAll</code> method you implemented above and assign it to a variable. You will now have a dictionary with the unique words that appear in fmtText as the keys, and the number of times they appear as the value.\n",
    "\n",
    "You can use this dictionary to return the number of occurrences of the word that was given as an argument to the <code>freqOf</code> method.\n",
    "\n",
    "If the word given as an argument does not appear in the text, return 0. You can check if a string is a key in the dictionary using the following code recipe: <code>if item in my_dictionary:</code>\n",
    "\n",
    "</details>\n"
   ]
  },
  {
   "cell_type": "code",
   "execution_count": 1,
   "metadata": {},
   "outputs": [],
   "source": [
    "class analysedText(object):\n",
    "    \n",
    "    def __init__ (self, text):\n",
    "        self.text = text.lower()\n",
    "        pun = ['.','?', '!', ',']\n",
    "        \n",
    "        for character in pun:\n",
    "            self.text = self.text.replace(character, '')\n",
    "        \n",
    "        self.fmtText = self.text\n",
    "        \n",
    "    def freqAll(self):\n",
    "        self.slownik = dict([(i, self.fmtText.split().count(i)) for i in self.fmtText.split()])\n",
    "        return self.slownik \n",
    "    \n",
    "    def freqOf(self, word):\n",
    "        return self.slownik[word]\n",
    "        "
   ]
  },
  {
   "cell_type": "markdown",
   "metadata": {},
   "source": [
    "You can run the code cell below to test your functions to ensure they are working correctly. First execute the code cell in which you implemented your solution, then execute the code cell to test your implementation.\n"
   ]
  },
  {
   "cell_type": "code",
   "execution_count": 2,
   "metadata": {},
   "outputs": [
    {
     "name": "stdout",
     "output_type": "stream",
     "text": [
      "Constructor: \n",
      "Test Passed\n",
      "freqAll: \n",
      "Test Passed\n",
      "freqOf: \n",
      "Test Passed\n"
     ]
    }
   ],
   "source": [
    "import sys\n",
    "\n",
    "sampleMap = {'eirmod': 1,'sed': 1, 'amet': 2, 'diam': 5, 'consetetur': 1, 'labore': 1, 'tempor': 1, 'dolor': 1, 'magna': 2, 'et': 3, 'nonumy': 1, 'ipsum': 1, 'lorem': 2}\n",
    "\n",
    "def testMsg(passed):\n",
    "    if passed:\n",
    "       return 'Test Passed'\n",
    "    else :\n",
    "       return 'Test Failed'\n",
    "\n",
    "print(\"Constructor: \")\n",
    "try:\n",
    "    samplePassage = analysedText(\"Lorem ipsum dolor! diam amet, consetetur Lorem magna. sed diam nonumy eirmod tempor. diam et labore? et diam magna. et diam amet.\")\n",
    "    print(testMsg(samplePassage.fmtText == \"lorem ipsum dolor diam amet consetetur lorem magna sed diam nonumy eirmod tempor diam et labore et diam magna et diam amet\"))\n",
    "except:\n",
    "    print(\"Error detected. Recheck your function \" )\n",
    "print(\"freqAll: \")\n",
    "try:\n",
    "    wordMap = samplePassage.freqAll()\n",
    "    print(testMsg(wordMap==sampleMap))\n",
    "except:\n",
    "    print(\"Error detected. Recheck your function \" )\n",
    "print(\"freqOf: \")\n",
    "try:\n",
    "    passed = True\n",
    "    for word in sampleMap:\n",
    "        if samplePassage.freqOf(word) != sampleMap[word]:\n",
    "            passed = False\n",
    "            break\n",
    "    print(testMsg(passed))\n",
    "    \n",
    "except:\n",
    "    print(\"Error detected. Recheck your function  \" )\n",
    "    "
   ]
  },
  {
   "cell_type": "code",
   "execution_count": null,
   "metadata": {},
   "outputs": [],
   "source": []
  }
 ],
 "metadata": {
  "kernelspec": {
   "display_name": "Python 3",
   "language": "python",
   "name": "python3"
  },
  "language_info": {
   "codemirror_mode": {
    "name": "ipython",
    "version": 3
   },
   "file_extension": ".py",
   "mimetype": "text/x-python",
   "name": "python",
   "nbconvert_exporter": "python",
   "pygments_lexer": "ipython3",
   "version": "3.8.5"
  }
 },
 "nbformat": 4,
 "nbformat_minor": 4
}
