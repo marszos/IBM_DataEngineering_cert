{
 "cells": [
  {
   "cell_type": "markdown",
   "metadata": {},
   "source": [
    "## Imports\n",
    "\n",
    "Import any additional libraries you may need here.\n"
   ]
  },
  {
   "cell_type": "code",
   "execution_count": 1,
   "metadata": {},
   "outputs": [],
   "source": [
    "from bs4 import BeautifulSoup\n",
    "import html5lib\n",
    "import requests\n",
    "import pandas as pd"
   ]
  },
  {
   "cell_type": "markdown",
   "metadata": {},
   "source": [
    "## Extract Data Using Web Scraping\n"
   ]
  },
  {
   "cell_type": "markdown",
   "metadata": {},
   "source": [
    "The wikipedia webpage [https://en.wikipedia.org/wiki/List_of_largest_banks](https://en.wikipedia.org/wiki/List_of_largest_banks?utm_medium=Exinfluencer&utm_source=Exinfluencer&utm_content=000026UJ&utm_term=10006555&utm_id=NA-SkillsNetwork-Channel-SkillsNetworkCoursesIBMDeveloperSkillsNetworkPY0221ENSkillsNetwork23455645-2022-01-01) provides information about largest banks in the world by various parameters. Scrape the data from the table 'By market capitalization' and store it in a JSON file.\n"
   ]
  },
  {
   "cell_type": "markdown",
   "metadata": {},
   "source": [
    "### Scraping the Data\n",
    "\n",
    "<b> Question 2</b> Using the contents and `beautiful soup` load the data from the `By market capitalization` table into a `pandas` dataframe. The dataframe should have the bank `Name` and `Market Cap (US$ Billion)` as column names.  Display the first five rows using head.\n"
   ]
  },
  {
   "cell_type": "markdown",
   "metadata": {},
   "source": [
    "Using BeautifulSoup parse the contents of the webpage.\n"
   ]
  },
  {
   "cell_type": "code",
   "execution_count": 4,
   "metadata": {},
   "outputs": [],
   "source": [
    "url = 'https://en.wikipedia.org/wiki/List_of_largest_banks'\n",
    "html_data = requests.get(url).text\n",
    "\n",
    "soup = BeautifulSoup(html_data, 'html.parser')\n",
    "tabele = soup.find_all('table')"
   ]
  },
  {
   "cell_type": "markdown",
   "metadata": {},
   "source": [
    "Load the data from the `By market capitalization` table into a pandas dataframe. The dataframe should have the bank `Name` and `Market Cap (US$ Billion)` as column names. Using the empty dataframe `data` and the given loop extract the necessary data from each row and append it to the empty dataframe.\n"
   ]
  },
  {
   "cell_type": "code",
   "execution_count": 5,
   "metadata": {},
   "outputs": [],
   "source": [
    "dataframe = pd.DataFrame(columns=['Name', 'Market Cap (US$ Billion)'])\n",
    "\n",
    "\n",
    "for row in tabele[3].tbody.find_all('tr'):\n",
    "    column = row.find_all('td')\n",
    "    \n",
    "    if column != []:\n",
    "        name = column[1].text.rstrip()\n",
    "        cap = column[2].text.rstrip()\n",
    "        dataframe = dataframe.append({'Name': name, 'Market Cap (US$ Billion)': cap}, ignore_index=True)"
   ]
  },
  {
   "cell_type": "markdown",
   "metadata": {},
   "source": [
    "**Question 3** Display the first five rows using the `head` function.\n"
   ]
  },
  {
   "cell_type": "code",
   "execution_count": 6,
   "metadata": {},
   "outputs": [
    {
     "data": {
      "text/html": [
       "<div>\n",
       "<style scoped>\n",
       "    .dataframe tbody tr th:only-of-type {\n",
       "        vertical-align: middle;\n",
       "    }\n",
       "\n",
       "    .dataframe tbody tr th {\n",
       "        vertical-align: top;\n",
       "    }\n",
       "\n",
       "    .dataframe thead th {\n",
       "        text-align: right;\n",
       "    }\n",
       "</style>\n",
       "<table border=\"1\" class=\"dataframe\">\n",
       "  <thead>\n",
       "    <tr style=\"text-align: right;\">\n",
       "      <th></th>\n",
       "      <th>Name</th>\n",
       "      <th>Market Cap (US$ Billion)</th>\n",
       "    </tr>\n",
       "  </thead>\n",
       "  <tbody>\n",
       "    <tr>\n",
       "      <th>0</th>\n",
       "      <td>JPMorgan Chase</td>\n",
       "      <td>400.37[6]</td>\n",
       "    </tr>\n",
       "    <tr>\n",
       "      <th>1</th>\n",
       "      <td>Industrial and Commercial Bank of China</td>\n",
       "      <td>295.65</td>\n",
       "    </tr>\n",
       "    <tr>\n",
       "      <th>2</th>\n",
       "      <td>Bank of America</td>\n",
       "      <td>279.73</td>\n",
       "    </tr>\n",
       "    <tr>\n",
       "      <th>3</th>\n",
       "      <td>Wells Fargo</td>\n",
       "      <td>214.34</td>\n",
       "    </tr>\n",
       "    <tr>\n",
       "      <th>4</th>\n",
       "      <td>China Construction Bank</td>\n",
       "      <td>207.98</td>\n",
       "    </tr>\n",
       "  </tbody>\n",
       "</table>\n",
       "</div>"
      ],
      "text/plain": [
       "                                       Name Market Cap (US$ Billion)\n",
       "0                            JPMorgan Chase                400.37[6]\n",
       "1   Industrial and Commercial Bank of China                   295.65\n",
       "2                           Bank of America                   279.73\n",
       "3                               Wells Fargo                   214.34\n",
       "4                   China Construction Bank                   207.98"
      ]
     },
     "execution_count": 6,
     "metadata": {},
     "output_type": "execute_result"
    }
   ],
   "source": [
    "#Write your code here\n",
    "dataframe.head()"
   ]
  },
  {
   "cell_type": "markdown",
   "metadata": {},
   "source": [
    "### Loading the Data\n",
    "\n",
    "Usually you will Load the `pandas` dataframe created above into a JSON named `bank_market_cap.json` using the `to_json()` function, but this time the data will be sent to another team who will split the data file into two files and inspect it. If you save the data it will interfere with the next part of the assignment.\n"
   ]
  },
  {
   "cell_type": "code",
   "execution_count": 7,
   "metadata": {},
   "outputs": [
    {
     "data": {
      "text/plain": [
       "'{\"Name\":{\"0\":\" JPMorgan Chase\",\"1\":\" Industrial and Commercial Bank of China\",\"2\":\" Bank of America\",\"3\":\" Wells Fargo\",\"4\":\" China Construction Bank\",\"5\":\" Agricultural Bank of China\",\"6\":\" HSBC Holdings PLC\",\"7\":\" Citigroup Inc.\",\"8\":\" Bank of China\",\"9\":\" China Merchants Bank\",\"10\":\" Royal Bank of Canada\",\"11\":\" Toronto-Dominion Bank\",\"12\":\" HDFC Bank\",\"13\":\" Commonwealth Bank\",\"14\":\" U.S. Bancorp\",\"15\":\" Goldman Sachs\",\"16\":\" Banco Santander\",\"17\":\" Banco Bradesco\",\"18\":\" Morgan Stanley\",\"19\":\" Westpac\",\"20\":\" Mitsubishi UFJ Financial Group\",\"21\":\" Scotiabank\",\"22\":\" PNC Financial Services\",\"23\":\" Bank of Communications\",\"24\":\" BNP Paribas\",\"25\":\" Australia and New Zealand Banking Group\",\"26\":\" National Australia Bank\",\"27\":\" Lloyds Banking Group\",\"28\":\" Sumitomo Mitsui Financial Group\",\"29\":\" Bank of Montreal\",\"30\":\" UBS\",\"31\":\" ING Group\",\"32\":\" Capital One\",\"33\":\" The Bank of New York Mellon\",\"34\":\" China Minsheng Bank\",\"35\":\" China CITIC Bank\",\"36\":\" Banco Bilbao Vizcaya Argentaria\",\"37\":\" Mizuho Financial Group\",\"38\":\" Intesa Sanpaolo\",\"39\":\" Cr\\\\u00e9dit Agricole\",\"40\":\" Canadian Imperial Bank of Commerce\",\"41\":\" Royal Bank of Scotland\",\"42\":\" Barclays\",\"43\":\" Credit Suisse\",\"44\":\" Nordea\",\"45\":\" Standard Chartered\",\"46\":\" KBC Bank\",\"47\":\" UniCredit\",\"48\":\" Soci\\\\u00e9t\\\\u00e9 G\\\\u00e9n\\\\u00e9rale\",\"49\":\" Deutsche Bank\"},\"Market Cap (US$ Billion)\":{\"0\":\"400.37[6]\",\"1\":\"295.65\",\"2\":\"279.73\",\"3\":\"214.34\",\"4\":\"207.98\",\"5\":\"181.49\",\"6\":\"169.47\",\"7\":\"163.58\",\"8\":\"151.15\",\"9\":\"133.37\",\"10\":\"113.80\",\"11\":\"106.61\",\"12\":\"105.9\",\"13\":\"99.77\",\"14\":\"84.40\",\"15\":\"78.70\",\"16\":\"75.47\",\"17\":\"74.67\",\"18\":\"73.93\",\"19\":\"67.84\",\"20\":\"66.20\",\"21\":\"65.48\",\"22\":\"63.11\",\"23\":\"61.85\",\"24\":\"59.36\",\"25\":\"54.88\",\"26\":\"51.68\",\"27\":\"51.19\",\"28\":\"49.85\",\"29\":\"48.12\",\"30\":\"45.92\",\"31\":\"44.97\",\"32\":\"43.22\",\"33\":\"42.58\",\"34\":\"39.13\",\"35\":\"38.55\",\"36\":\"37.42\",\"37\":\"36.95\",\"38\":\"36.90\",\"39\":\"34.89\",\"40\":\"34.87\",\"41\":\"33.95\",\"42\":\"33.26\",\"43\":\"30.75\",\"44\":\"29.59\",\"45\":\"29.37\",\"46\":\"27.40\",\"47\":\"26.88\",\"48\":\"21.27\",\"49\":\"15.77\"}}'"
      ]
     },
     "execution_count": 7,
     "metadata": {},
     "output_type": "execute_result"
    }
   ],
   "source": [
    "#Write your code here\n",
    "dataframe.to_json()"
   ]
  }
 ],
 "metadata": {
  "kernelspec": {
   "display_name": "Python 3",
   "language": "python",
   "name": "python3"
  },
  "language_info": {
   "codemirror_mode": {
    "name": "ipython",
    "version": 3
   },
   "file_extension": ".py",
   "mimetype": "text/x-python",
   "name": "python",
   "nbconvert_exporter": "python",
   "pygments_lexer": "ipython3",
   "version": "3.8.5"
  }
 },
 "nbformat": 4,
 "nbformat_minor": 4
}
